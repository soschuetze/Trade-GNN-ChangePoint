{
 "cells": [
  {
   "cell_type": "code",
   "execution_count": 1,
   "metadata": {},
   "outputs": [],
   "source": [
    "import pandas as pd\n",
    "import numpy as np\n",
    "import pickle as pkl\n",
    "import datetime as datetime\n",
    "from tqdm import tqdm\n",
    "import itertools\n",
    "import networkx as nx\n",
    "import random\n",
    "import torch\n",
    "import torch.nn as nn\n",
    "import torch.optim as optim\n",
    "from torch.optim.lr_scheduler import StepLR\n",
    "from CreateFeatures import CreateFeatures\n",
    "from GraphSAGE import SiameseGNN_GraphSAGE\n",
    "from graph_isomorphism import SiameseGNN_GIN\n",
    "from GAT import SiameseGNN_GAT"
   ]
  },
  {
   "cell_type": "code",
   "execution_count": 2,
   "metadata": {},
   "outputs": [],
   "source": [
    "feats = \"gdp-mis\"\n",
    "with open('../../sGNN_pickle_files/gdp_mis/train_data_gdp_mis.pkl', 'rb') as f:\n",
    "    train_data = pkl.load(f)\n",
    "\n",
    "with open('../../sGNN_pickle_files/gdp_mis/val_data_gdp_mis.pkl', 'rb') as f:\n",
    "    graph_pairs_val = pkl.load(f)\n",
    "    \n",
    "with open('../../sGNN_pickle_files/gdp_mis/test_data_gdp_mis.pkl', 'rb') as f:\n",
    "    graph_pairs_test = pkl.load(f)"
   ]
  },
  {
   "cell_type": "code",
   "execution_count": 3,
   "metadata": {},
   "outputs": [],
   "source": [
    "import torch\n",
    "import torch.optim as optim\n",
    "import torch.nn as nn\n",
    "from torch.optim.lr_scheduler import StepLR\n",
    "from sklearn.model_selection import KFold\n",
    "from tqdm import tqdm\n",
    "from sklearn.metrics import f1_score, fbeta_score\n",
    "import numpy as np\n",
    "\n",
    "def run_model_normal(model, type, lr, training_data_pairs, val_data_pairs, num_epochs=10):\n",
    "    \n",
    "    val_acc = 0\n",
    "    val_f1 = 0\n",
    "    val_f2 = 0\n",
    "    val_f05 = 0\n",
    "\n",
    "    val_loss_arr = []\n",
    "    train_loss_arr = []\n",
    "        \n",
    "    torch.manual_seed(42)\n",
    "    optimizer = optim.Adam(model.parameters(), lr=lr, weight_decay=0.0001)\n",
    "    scheduler = StepLR(optimizer, step_size=10, gamma=0.1)\n",
    "    criterion = nn.BCELoss() \n",
    "\n",
    "    for epoch in tqdm(range(num_epochs)):\n",
    "        model.train()\n",
    "        train_losses = []\n",
    "        for (graph1, graph2, labels) in training_data_pairs:\n",
    "            optimizer.zero_grad()\n",
    "            out = model(graph1, graph2)\n",
    "\n",
    "            loss = criterion(out, labels)\n",
    "            loss.backward()\n",
    "            optimizer.step()\n",
    "            train_losses.append(loss.item())\n",
    "\n",
    "        scheduler.step()\n",
    "\n",
    "        model.eval()\n",
    "        with torch.no_grad():\n",
    "            val_losses = []\n",
    "            val_pred = []\n",
    "            val_truth = []\n",
    "\n",
    "            correct = 0\n",
    "            total = 0\n",
    "            for (graph1, graph2, labels) in val_data_pairs:\n",
    "                out = model(graph1, graph2)\n",
    "\n",
    "                val_loss = criterion(out, labels)\n",
    "                val_losses.append(val_loss.item())\n",
    "\n",
    "                predictions = torch.round(out)\n",
    "\n",
    "                val_pred.extend(predictions.cpu().numpy())\n",
    "                val_truth.extend(labels.cpu().numpy())\n",
    "\n",
    "                correct += (predictions == labels).sum().item()\n",
    "                total += labels.size(0)\n",
    "\n",
    "            val_loss = sum(val_losses) / len(val_losses)\n",
    "            val_accuracy = correct / total\n",
    "\n",
    "        val_f1 = f1_score(val_truth, val_pred)\n",
    "        val_f2 = fbeta_score(y_true=val_truth, y_pred=val_pred, beta=2)\n",
    "        val_f05 = fbeta_score(y_true=val_truth, y_pred=val_pred, beta=1 / 2)\n",
    "\n",
    "        train_loss_arr.append(sum(train_losses) / len(train_losses))\n",
    "        val_loss_arr.append(val_loss)\n",
    "        print(f'Epoch: {epoch + 1}, Training Loss: {sum(train_losses) / len(train_losses)}, Validation Loss: {val_loss}, Validation Accuracy: {val_accuracy}, F1 Score: {val_f1}, F2 Score: {val_f2}, F0.5 Score: {val_f05}')\n",
    "\n",
    "    model_name = f\"models/real_data/{type}-{feats}.pt\"\n",
    "    torch.save(model.state_dict(), model_name)\n",
    "\n",
    "    return train_losses, val_losses"
   ]
  },
  {
   "cell_type": "code",
   "execution_count": 4,
   "metadata": {},
   "outputs": [
    {
     "name": "stderr",
     "output_type": "stream",
     "text": [
      " 10%|█         | 1/10 [00:10<01:31, 10.12s/it]"
     ]
    },
    {
     "name": "stdout",
     "output_type": "stream",
     "text": [
      "Epoch: 1, Training Loss: 0.7041573859140521, Validation Loss: 0.6772207044064998, Validation Accuracy: 0.721875, F1 Score: 0.8348794063079777, F2 Score: 0.8707430340557275, F0.5 Score: 0.8018531717747683\n"
     ]
    },
    {
     "name": "stderr",
     "output_type": "stream",
     "text": [
      " 20%|██        | 2/10 [00:20<01:20, 10.04s/it]"
     ]
    },
    {
     "name": "stdout",
     "output_type": "stream",
     "text": [
      "Epoch: 2, Training Loss: 0.6948035275716273, Validation Loss: 0.6894011793658137, Validation Accuracy: 0.634375, F1 Score: 0.7515923566878981, F2 Score: 0.7230392156862745, F0.5 Score: 0.7824933687002652\n"
     ]
    },
    {
     "name": "stderr",
     "output_type": "stream",
     "text": [
      " 30%|███       | 3/10 [00:29<01:09,  9.86s/it]"
     ]
    },
    {
     "name": "stdout",
     "output_type": "stream",
     "text": [
      "Epoch: 3, Training Loss: 0.6947493485373551, Validation Loss: 0.6992928631603718, Validation Accuracy: 0.50625, F1 Score: 0.616504854368932, F2 Score: 0.5450643776824035, F0.5 Score: 0.7094972067039106\n"
     ]
    },
    {
     "name": "stderr",
     "output_type": "stream",
     "text": [
      " 40%|████      | 4/10 [00:39<00:58,  9.75s/it]"
     ]
    },
    {
     "name": "stdout",
     "output_type": "stream",
     "text": [
      "Epoch: 4, Training Loss: 0.69504735118053, Validation Loss: 0.7010841416195035, Validation Accuracy: 0.45625, F1 Score: 0.5492227979274611, F2 Score: 0.46532045654082527, F0.5 Score: 0.6700379266750948\n"
     ]
    },
    {
     "name": "stderr",
     "output_type": "stream",
     "text": [
      " 50%|█████     | 5/10 [00:49<00:49,  9.81s/it]"
     ]
    },
    {
     "name": "stdout",
     "output_type": "stream",
     "text": [
      "Epoch: 5, Training Loss: 0.6917976799110571, Validation Loss: 0.6941080743446946, Validation Accuracy: 0.5, F1 Score: 0.6039603960396039, F2 Score: 0.5272255834053586, F0.5 Score: 0.7068366164542295\n"
     ]
    },
    {
     "name": "stderr",
     "output_type": "stream",
     "text": [
      " 60%|██████    | 6/10 [00:58<00:38,  9.70s/it]"
     ]
    },
    {
     "name": "stdout",
     "output_type": "stream",
     "text": [
      "Epoch: 6, Training Loss: 0.686383120267769, Validation Loss: 0.687628997862339, Validation Accuracy: 0.5625, F1 Score: 0.6774193548387096, F2 Score: 0.6192080876158382, F0.5 Score: 0.7477110885045778\n"
     ]
    },
    {
     "name": "stderr",
     "output_type": "stream",
     "text": [
      " 70%|███████   | 7/10 [01:08<00:29,  9.70s/it]"
     ]
    },
    {
     "name": "stdout",
     "output_type": "stream",
     "text": [
      "Epoch: 7, Training Loss: 0.6900822874260405, Validation Loss: 0.700604198873043, Validation Accuracy: 0.53125, F1 Score: 0.6376811594202898, F2 Score: 0.5655526992287918, F0.5 Score: 0.7308970099667774\n"
     ]
    },
    {
     "name": "stderr",
     "output_type": "stream",
     "text": [
      " 80%|████████  | 8/10 [01:18<00:19,  9.80s/it]"
     ]
    },
    {
     "name": "stdout",
     "output_type": "stream",
     "text": [
      "Epoch: 8, Training Loss: 0.6900916015881984, Validation Loss: 0.6893365886062384, Validation Accuracy: 0.553125, F1 Score: 0.6651053864168618, F2 Score: 0.6016949152542372, F0.5 Score: 0.743455497382199\n"
     ]
    },
    {
     "name": "stderr",
     "output_type": "stream",
     "text": [
      " 90%|█████████ | 9/10 [01:28<00:09,  9.82s/it]"
     ]
    },
    {
     "name": "stdout",
     "output_type": "stream",
     "text": [
      "Epoch: 9, Training Loss: 0.6862040492273419, Validation Loss: 0.6983177141286433, Validation Accuracy: 0.53125, F1 Score: 0.6428571428571429, F2 Score: 0.5754475703324808, F0.5 Score: 0.7281553398058253\n"
     ]
    },
    {
     "name": "stderr",
     "output_type": "stream",
     "text": [
      "100%|██████████| 10/10 [01:37<00:00,  9.78s/it]"
     ]
    },
    {
     "name": "stdout",
     "output_type": "stream",
     "text": [
      "Epoch: 10, Training Loss: 0.6808161943784503, Validation Loss: 0.6954897604882717, Validation Accuracy: 0.56875, F1 Score: 0.6805555555555556, F2 Score: 0.620253164556962, F0.5 Score: 0.7538461538461538\n"
     ]
    },
    {
     "name": "stderr",
     "output_type": "stream",
     "text": [
      "\n"
     ]
    }
   ],
   "source": [
    "input_dim = train_data[0][0].x.shape[1]\n",
    "\n",
    "# Define hyperparameter grids\n",
    "learning_rates = [1e-4]\n",
    "dropout_rates = [0.1]\n",
    "sort_k_values = [50]\n",
    "hidden_units_values = [16]\n",
    "\n",
    "# Create combinations of hyperparameters\n",
    "hyperparameter_combinations = list(itertools.product(learning_rates, dropout_rates, sort_k_values, hidden_units_values))\n",
    "\n",
    "for lr, dropout_rate, sort_k, hidden_units in hyperparameter_combinations:\n",
    "    hyperparameters = f\"{lr}_{dropout_rate}_{sort_k}_{hidden_units}\"\n",
    "    model = SiameseGNN_GIN(sort_k, input_dim, dropout = dropout_rate, nhidden=hidden_units)\n",
    "    fold_scores = run_model_normal(model, \"gin\", lr, train_data, graph_pairs_val)"
   ]
  },
  {
   "cell_type": "markdown",
   "metadata": {},
   "source": [
    "## Testing Model"
   ]
  },
  {
   "cell_type": "code",
   "execution_count": 6,
   "metadata": {},
   "outputs": [],
   "source": [
    "def load_model(model_path: str):\n",
    "\n",
    "    model = SiameseGNN_GIN(50, 27, dropout = 0.05, nhidden=16)\n",
    "    model.load_state_dict(torch.load(model_path))\n",
    "\n",
    "    return model"
   ]
  },
  {
   "cell_type": "code",
   "execution_count": 7,
   "metadata": {},
   "outputs": [
    {
     "data": {
      "text/plain": [
       "SiameseGNN_GIN(\n",
       "  (gnn): GIN(\n",
       "    (mlp1): Sequential(\n",
       "      (0): Linear(in_features=27, out_features=16, bias=True)\n",
       "      (1): ReLU()\n",
       "      (2): Linear(in_features=16, out_features=16, bias=True)\n",
       "    )\n",
       "    (mlp2): Sequential(\n",
       "      (0): Linear(in_features=16, out_features=16, bias=True)\n",
       "      (1): ReLU()\n",
       "      (2): Linear(in_features=16, out_features=16, bias=True)\n",
       "    )\n",
       "    (conv1): GINConv(nn=Sequential(\n",
       "      (0): Linear(in_features=27, out_features=16, bias=True)\n",
       "      (1): ReLU()\n",
       "      (2): Linear(in_features=16, out_features=16, bias=True)\n",
       "    ))\n",
       "    (conv2): GINConv(nn=Sequential(\n",
       "      (0): Linear(in_features=16, out_features=16, bias=True)\n",
       "      (1): ReLU()\n",
       "      (2): Linear(in_features=16, out_features=16, bias=True)\n",
       "    ))\n",
       "    (linear): Linear(in_features=16, out_features=2, bias=True)\n",
       "  )\n",
       "  (dropout): Dropout(p=0.05, inplace=False)\n",
       "  (similarity): PairwiseDistance()\n",
       "  (fc1): Linear(in_features=50, out_features=32, bias=True)\n",
       "  (norm1): LayerNorm((32,), eps=1e-05, elementwise_affine=True)\n",
       "  (relu1): ReLU()\n",
       "  (fc2): Linear(in_features=32, out_features=16, bias=True)\n",
       "  (norm2): LayerNorm((16,), eps=1e-05, elementwise_affine=True)\n",
       "  (relu2): ReLU()\n",
       "  (fc3): Linear(in_features=16, out_features=1, bias=True)\n",
       ")"
      ]
     },
     "execution_count": 7,
     "metadata": {},
     "output_type": "execute_result"
    }
   ],
   "source": [
    "model = load_model('models/real_data/gin-gdp-mis.pt')\n",
    "model.eval()"
   ]
  },
  {
   "cell_type": "code",
   "execution_count": 8,
   "metadata": {},
   "outputs": [
    {
     "name": "stdout",
     "output_type": "stream",
     "text": [
      "Accuracy: 0.5862068965517241, F1 Score: 0.7027027027027027, F2 Score: 0.6326034063260341, F0.5 Score: 0.790273556231003\n"
     ]
    },
    {
     "data": {
      "image/png": "[encoded data removed]",
      "text/plain": [
       "<Figure size 640x480 with 1 Axes>"
      ]
     },
     "metadata": {},
     "output_type": "display_data"
    }
   ],
   "source": [
    "from sklearn.metrics import roc_auc_score, roc_curve, auc\n",
    "import matplotlib.pyplot as plt\n",
    "import numpy as np\n",
    "\n",
    "y_true = []\n",
    "y_pred = []\n",
    "\n",
    "with torch.no_grad():\n",
    "    for (graph1, graph2, label) in graph_pairs_test:\n",
    "        output = model(graph1, graph2)\n",
    "        predictions = torch.round(output)\n",
    "        y_true.append(label.numpy())\n",
    "        y_pred.append(predictions.numpy())\n",
    "\n",
    "y_true = np.concatenate(y_true)\n",
    "y_pred = np.concatenate(y_pred)\n",
    "\n",
    "fpr, tpr, _ = roc_curve(y_true, y_pred)\n",
    "roc_auc = auc(fpr, tpr)\n",
    "\n",
    "acc = np.mean(y_true == y_pred)\n",
    "val_f1 = f1_score(y_true, y_pred)\n",
    "val_f2 = fbeta_score(y_true, y_pred, beta=2)\n",
    "val_f05 = fbeta_score(y_true, y_pred, beta=1 / 2)\n",
    "\n",
    "print(f'Accuracy: {acc}, F1 Score: {val_f1}, F2 Score: {val_f2}, F0.5 Score: {val_f05}')\n",
    "\n",
    "plt.figure()\n",
    "plt.plot(fpr, tpr, color='red', lw=2, label=f'ROC curve (area = {roc_auc:.2f})')\n",
    "plt.plot([0, 1], [0, 1], color='black', lw=2, linestyle='--')\n",
    "plt.xlim([0.0, 1.0])\n",
    "plt.ylim([0.0, 1.05])\n",
    "plt.xlabel('False Positive Rate')\n",
    "plt.ylabel('True Positive Rate')\n",
    "plt.legend(loc=\"lower right\")\n",
    "plt.show()"
   ]
  },
  {
   "cell_type": "code",
   "execution_count": null,
   "metadata": {},
   "outputs": [],
   "source": []
  }
 ],
 "metadata": {
  "kernelspec": {
   "display_name": ".env",
   "language": "python",
   "name": "python3"
  },
  "language_info": {
   "codemirror_mode": {
    "name": "ipython",
    "version": 3
   },
   "file_extension": ".py",
   "mimetype": "text/x-python",
   "name": "python",
   "nbconvert_exporter": "python",
   "pygments_lexer": "ipython3",
   "version": "3.11.5"
  }
 },
 "nbformat": 4,
 "nbformat_minor": 2
}
